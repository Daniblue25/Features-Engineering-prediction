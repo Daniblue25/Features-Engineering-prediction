{
 "cells": [
  {
   "cell_type": "code",
   "execution_count": null,
   "metadata": {},
   "outputs": [],
   "source": []
  },
  {
   "attachments": {},
   "cell_type": "markdown",
   "metadata": {},
   "source": [
    "Le LSTM est un type de réseau de neurones qui est particulièrement adapté pour travailler avec des données séquentielles,    \n",
    "telles que des séries temporelles. Pour prédire les prix des vols, le LSTM peut être entraîné sur un ensemble de données historiques de prix de vols,     \n",
    "ainsi que sur d'autres variables importantes telles que les dates, les heures de départ, les aéroports de départ et d'arrivée, etc.\n",
    "\n",
    "Le LSTM peut alors utiliser ces données historiques pour apprendre les tendances et les modèles de fluctuation des prix des vols,    \n",
    "et pour prédire les prix futurs des vols en fonction des données actuelles."
   ]
  },
  {
   "cell_type": "code",
   "execution_count": null,
   "metadata": {},
   "outputs": [],
   "source": [
    "import pandas as pd\n",
    "import numpy as np\n",
    "from keras.models import Sequential\n",
    "from keras.layers import LSTM, Dense\n",
    "from sklearn.preprocessing import MinMaxScaler\n",
    "\n",
    "# Charger les données historiques de prix de vols depuis un fichier CSV\n",
    "data = pd.read_csv('historical_flight_prices.csv')\n",
    "\n",
    "# Prétraitement des données\n",
    "scaler = MinMaxScaler()\n",
    "data['Price'] = scaler.fit_transform(data['Price'].values.reshape(-1, 1))\n",
    "\n",
    "# Diviser les données en ensembles d'entraînement et de test\n",
    "train_size = int(len(data) * 0.8)\n",
    "test_size = len(data) - train_size\n",
    "train_data = data[:train_size]\n",
    "test_data = data[train_size:]\n",
    "\n",
    "# Préparation des données pour l'apprentissage du modèle\n",
    "def prepare_data(data, lookback):\n",
    "    X, Y = [], []\n",
    "    for i in range(len(data)-lookback-1):\n",
    "        x = data[i:(i+lookback), 0]\n",
    "        X.append(x)\n",
    "        Y.append(data[i+lookback, 0])\n",
    "    return np.array(X), np.array(Y)\n",
    "\n",
    "lookback = 5\n",
    "train_X, train_Y = prepare_data(train_data['Price'].values.reshape(-1, 1), lookback)\n",
    "test_X, test_Y = prepare_data(test_data['Price'].values.reshape(-1, 1), lookback)\n",
    "\n",
    "# Création et entraînement du modèle LSTM\n",
    "model = Sequential()\n",
    "model.add(LSTM(50, input_shape=(lookback, 1)))\n",
    "model.add(Dense(1))\n",
    "model.compile(loss='mean_squared_error', optimizer='adam')\n",
    "model.fit(train_X, train_Y, epochs=100, batch_size=1, verbose=2)\n",
    "\n",
    "# Prédiction des prix des vols pour l'ensemble de test\n",
    "test_predict = model.predict(test_X)\n",
    "\n",
    "# Échelle inverse des prédictions et des vraies valeurs\n",
    "test_predict = scaler.inverse_transform(test_predict)\n",
    "test_Y = scaler.inverse_transform(test_Y.reshape(-1, 1))\n",
    "\n",
    "# Calcul de l'erreur moyenne absolue (MAE) de la prédiction\n",
    "mae = np.mean(np.abs(test_predict - test_Y))\n",
    "print('MAE:', mae)\n"
   ]
  }
 ],
 "metadata": {
  "kernelspec": {
   "display_name": "Python 3",
   "language": "python",
   "name": "python3"
  },
  "language_info": {
   "codemirror_mode": {
    "name": "ipython",
    "version": 3
   },
   "file_extension": ".py",
   "mimetype": "text/x-python",
   "name": "python",
   "nbconvert_exporter": "python",
   "pygments_lexer": "ipython3",
   "version": "3.10.10"
  },
  "orig_nbformat": 4,
  "vscode": {
   "interpreter": {
    "hash": "84fd2673a0f847bf80637898000f9b4175f2ffd476d5f31b41a838c2acdb5b76"
   }
  }
 },
 "nbformat": 4,
 "nbformat_minor": 2
}
